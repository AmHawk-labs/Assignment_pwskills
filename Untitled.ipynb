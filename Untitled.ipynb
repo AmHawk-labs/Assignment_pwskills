{
 "cells": [
  {
   "cell_type": "code",
   "execution_count": 1,
   "id": "c3560c88-b95e-489e-a51e-14b905632005",
   "metadata": {},
   "outputs": [],
   "source": [
    "import pandas as pd"
   ]
  },
  {
   "cell_type": "code",
   "execution_count": 8,
   "id": "63d2d4a0-1e58-4d23-987e-664386f29429",
   "metadata": {},
   "outputs": [],
   "source": [
    "df = pd.read_csv(\"data.csv\")"
   ]
  },
  {
   "cell_type": "code",
   "execution_count": 10,
   "id": "ffd45549-f3fe-4ed7-8519-76d503bb24ba",
   "metadata": {},
   "outputs": [
    {
     "name": "stdout",
     "output_type": "stream",
     "text": [
      "0     135\n",
      "1     118\n",
      "2     127\n",
      "3     140\n",
      "4     118\n",
      "     ... \n",
      "94    129\n",
      "95    137\n",
      "96    123\n",
      "97    135\n",
      "98    130\n",
      "Name: Blood Pressure After, Length: 99, dtype: int64\n"
     ]
    }
   ],
   "source": [
    "print(df['Blood Pressure After'])"
   ]
  },
  {
   "cell_type": "code",
   "execution_count": null,
   "id": "5bb435ba-f517-48c4-aff3-7b3b0edbfe47",
   "metadata": {},
   "outputs": [],
   "source": []
  },
  {
   "cell_type": "code",
   "execution_count": null,
   "id": "8cd220c0-7fc4-4034-9cc1-2b89ee3a6749",
   "metadata": {},
   "outputs": [],
   "source": []
  }
 ],
 "metadata": {
  "kernelspec": {
   "display_name": "Python 3 (ipykernel)",
   "language": "python",
   "name": "python3"
  },
  "language_info": {
   "codemirror_mode": {
    "name": "ipython",
    "version": 3
   },
   "file_extension": ".py",
   "mimetype": "text/x-python",
   "name": "python",
   "nbconvert_exporter": "python",
   "pygments_lexer": "ipython3",
   "version": "3.10.8"
  }
 },
 "nbformat": 4,
 "nbformat_minor": 5
}
